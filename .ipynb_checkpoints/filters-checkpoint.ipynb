{
 "cells": [
  {
   "cell_type": "code",
   "execution_count": null,
   "id": "bd4d08bc",
   "metadata": {
    "vscode": {
     "languageId": "plaintext"
    }
   },
   "outputs": [],
   "source": []
  },
  {
   "cell_type": "markdown",
   "id": "d2b18277",
   "metadata": {},
   "source": [
    "## NAME"
   ]
  },
  {
   "cell_type": "markdown",
   "id": "de5a1297",
   "metadata": {},
   "source": []
  }
 ],
 "metadata": {
  "language_info": {
   "name": "python"
  }
 },
 "nbformat": 4,
 "nbformat_minor": 5
}
